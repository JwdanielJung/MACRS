{
 "cells": [
  {
   "cell_type": "code",
   "execution_count": 5,
   "metadata": {},
   "outputs": [
    {
     "data": {
      "text/plain": [
       "pyarrow.Table\n",
       "tconst: string\n",
       "ordering: int64\n",
       "nconst: string\n",
       "category: string\n",
       "job: string\n",
       "characters: string\n",
       "primaryName: string\n",
       "birthYear: string\n",
       "deathYear: string\n",
       "primaryProfession: list<element: string>\n",
       "  child 0, element: string\n",
       "knownForTitles: list<element: string>\n",
       "  child 0, element: string\n",
       "----\n",
       "tconst: [[\"tt0000091\",\"tt0000091\",\"tt0000091\",\"tt0000091\",\"tt0000091\",...,\"tt0180052\",\"tt0180052\",\"tt0180052\",\"tt0180052\",\"tt0180052\"],[\"tt0180052\",\"tt0180052\",\"tt0180052\",\"tt0180052\",\"tt0180073\",...,\"tt6391356\",\"tt6391356\",\"tt6391356\",\"tt6391356\",\"tt6391356\"]]\n",
       "ordering: [[1,2,3,4,5,...,14,15,16,17,18],[19,20,21,22,1,...,16,17,18,19,20]]\n",
       "nconst: [[\"nm0194945\",\"nm6170115\",\"nm0617588\",\"nm0617588\",\"nm0617588\",...,\"nm0106840\",\"nm0106841\",\"nm0834870\",\"nm0694173\",\"nm0005929\"],[\"nm0374189\",\"nm0386532\",\"nm0173225\",\"nm0117489\",\"nm0001691\",...,\"nm1691312\",\"nm0213983\",\"nm2066417\",\"nm0007111\",\"nm1756261\"]]\n",
       "category: [[\"actress\",\"actor\",\"actor\",\"director\",\"writer\",...,\"producer\",\"producer\",\"producer\",\"composer\",\"cinematographer\"],[\"editor\",\"editor\",\"casting_director\",\"production_designer\",\"actor\",...,\"composer\",\"cinematographer\",\"editor\",\"casting_director\",\"production_designer\"]]\n",
       "job: [[\"\\N\",\"\\N\",\"\\N\",\"\\N\",\"\\N\",...,\"producer\",\"producer\",\"producer\",\"\\N\",\"director of photography\"],[\"\\N\",\"\\N\",\"\\N\",\"\\N\",\"\\N\",...,\"composer\",\"director of photography\",\"\\N\",\"casting_director\",\"\\N\"]]\n",
       "characters: [[\"[\"Young woman\"]\",\"[\"Mephistopheles\"]\",\"[\"Mephistopheles\"]\",\"\\N\",\"\\N\",...,\"\\N\",\"\\N\",\"\\N\",\"\\N\",\"\\N\"],[\"\\N\",\"\\N\",\"\\N\",\"\\N\",\"[\"The Marquis de Sade\"]\",...,\"\\N\",\"\\N\",\"\\N\",\"\\N\",\"\\N\"]]\n",
       "primaryName: [[\"Jehanne d'Alcy\",\"Jules-Eugène Legris\",\"Georges Méliès\",\"Georges Méliès\",\"Georges Méliès\",...,\"Martin Bregman\",\"Michael Bregman\",\"Louis A. Stroller\",\"John Powell\",\"Oliver Wood\"],[\"Alan Heim\",\"Paul Hirsch\",\"Mary Colquhoun\",\"Bill Brzeski\",\"Geoffrey Rush\",...,\"Joe Silva\",\"David DeCoteau\",\"Jamie Francis\",\"Ann Forry\",\"Emrey Wright\"]]\n",
       "birthYear: [[\"1865\",\"1862\",\"1861\",\"1861\",\"1861\",...,\"1926\",\"\\N\",\"1942\",\"1963\",\"1942\"],[\"1936\",\"1945\",\"1940\",\"\\N\",\"1951\",...,\"\\N\",\"1962\",\"1982\",\"\\N\",\"\\N\"]]\n",
       "deathYear: [[\"1956\",\"1926\",\"1938\",\"1938\",\"1938\",...,\"2018\",\"\\N\",\"\\N\",\"\\N\",\"2023\"],[\"\\N\",\"\\N\",\"2000\",\"\\N\",\"\\N\",...,\"\\N\",\"\\N\",\"\\N\",\"\\N\",\"\\N\"]]\n",
       "primaryProfession: [[[\"actress\",\"costume_designer\",\"archive_footage\"],[\"actor\"],...,[\"composer\",\"music_department\",\"soundtrack\"],[\"cinematographer\",\"camera_department\",\"actor\"]],[[\"editor\",\"sound_department\",\"music_department\"],[\"editor\",\"editorial_department\",\"actor\"],...,[\"casting_director\",\"casting_department\",\"director\"],[\"producer\",\"production_manager\",\"assistant_director\"]]]\n",
       "..."
      ]
     },
     "execution_count": 5,
     "metadata": {},
     "output_type": "execute_result"
    }
   ],
   "source": [
    "import pyarrow.parquet as pq\n",
    "import os\n",
    "with open(os.path.join(\"movie_dataset\",\"people.parquet\"), 'rb') as file:\n",
    "    data = pq.read_table(file)\n",
    "\n",
    "data"
   ]
  }
 ],
 "metadata": {
  "kernelspec": {
   "display_name": "iEvaLM",
   "language": "python",
   "name": "python3"
  },
  "language_info": {
   "codemirror_mode": {
    "name": "ipython",
    "version": 3
   },
   "file_extension": ".py",
   "mimetype": "text/x-python",
   "name": "python",
   "nbconvert_exporter": "python",
   "pygments_lexer": "ipython3",
   "version": "3.8.0"
  }
 },
 "nbformat": 4,
 "nbformat_minor": 2
}
